{
 "cells": [
  {
   "cell_type": "code",
   "execution_count": 2,
   "id": "a5f35677",
   "metadata": {},
   "outputs": [],
   "source": [
    "# Import Libraries\n",
    "import numpy as np\n",
    "import pandas as pd\n",
    "from surprise import SVD\n",
    "from surprise import Reader\n",
    "from surprise import Dataset\n",
    "import pickle"
   ]
  },
  {
   "cell_type": "code",
   "execution_count": 9,
   "id": "caeb8e46",
   "metadata": {},
   "outputs": [],
   "source": [
    "# Importing datasets\n",
    "ratings = pd.read_csv('../data/ratings.csv')\n",
    "ratings.drop('timestamp',axis=1,inplace=True)"
   ]
  },
  {
   "cell_type": "code",
   "execution_count": 12,
   "id": "566f80ee",
   "metadata": {},
   "outputs": [],
   "source": [
    "min_rat = ratings['rating'].min()\n",
    "max_rat = ratings['rating'].max()\n",
    "    \n",
    "# Changing ratings to their standard form\n",
    "reader = Reader(rating_scale = (min_rat,max_rat))"
   ]
  },
  {
   "cell_type": "code",
   "execution_count": 13,
   "id": "b30dcf01",
   "metadata": {},
   "outputs": [],
   "source": [
    "# Loading the data frame using surprice\n",
    "data = Dataset.load_from_df(ratings, reader)"
   ]
  },
  {
   "cell_type": "code",
   "execution_count": 14,
   "id": "1b2840a0",
   "metadata": {},
   "outputs": [],
   "source": [
    "# Insatntiating surpricce\n",
    "svd = SVD(n_factors = 35 , n_epochs = 24)"
   ]
  },
  {
   "cell_type": "code",
   "execution_count": 16,
   "id": "1c7cedb3",
   "metadata": {},
   "outputs": [],
   "source": [
    "# Loading a trainset into the model\n",
    "model = svd.fit(data.build_full_trainset())"
   ]
  },
  {
   "cell_type": "code",
   "execution_count": 17,
   "id": "de6c081a",
   "metadata": {},
   "outputs": [],
   "source": [
    "pickle.dump(model, open('TeamCW1_SVD.pkl','wb'))"
   ]
  },
  {
   "cell_type": "code",
   "execution_count": null,
   "id": "c31e9573",
   "metadata": {},
   "outputs": [],
   "source": []
  }
 ],
 "metadata": {
  "kernelspec": {
   "display_name": "Python 3 (ipykernel)",
   "language": "python",
   "name": "python3"
  },
  "language_info": {
   "codemirror_mode": {
    "name": "ipython",
    "version": 3
   },
   "file_extension": ".py",
   "mimetype": "text/x-python",
   "name": "python",
   "nbconvert_exporter": "python",
   "pygments_lexer": "ipython3",
   "version": "3.9.12"
  }
 },
 "nbformat": 4,
 "nbformat_minor": 5
}
